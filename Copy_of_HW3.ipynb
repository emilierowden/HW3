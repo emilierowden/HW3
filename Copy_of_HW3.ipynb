{
  "nbformat": 4,
  "nbformat_minor": 0,
  "metadata": {
    "colab": {
      "name": "Copy of HW3.ipynb",
      "provenance": []
    },
    "kernelspec": {
      "name": "python3",
      "display_name": "Python 3"
    },
    "language_info": {
      "name": "python"
    }
  },
  "cells": [
    {
      "cell_type": "markdown",
      "source": [
        "Please see examples we did in class. Questions are just variations of what we did earlier. "
      ],
      "metadata": {
        "id": "c37DlYNi3HaS"
      }
    },
    {
      "cell_type": "markdown",
      "source": [
        "**Q1**. Please read WorldCupMatches.csv to a data frame to proceed"
      ],
      "metadata": {
        "id": "Hmx--bdJfpU_"
      }
    },
    {
      "cell_type": "code",
      "source": [
        "import pandas as pd\n",
        "import matplotlib.pyplot as plt\n",
        "import seaborn as sns\n",
        "\n",
        "worldcup = pd.read_csv('/content/drive/MyDrive/DATA/WorldCupMatches.csv')\n",
        "worldcup.head()\n",
        "\n"
      ],
      "metadata": {
        "id": "rlIhhyF_XRHl"
      },
      "execution_count": null,
      "outputs": []
    },
    {
      "cell_type": "code",
      "source": [
        "from google.colab import drive\n",
        "drive.mount('/content/drive')"
      ],
      "metadata": {
        "colab": {
          "base_uri": "https://localhost:8080/"
        },
        "id": "hxUp1F5KpOJA",
        "outputId": "702c0c03-4d91-4b4e-baff-331157c324c0"
      },
      "execution_count": 1,
      "outputs": [
        {
          "output_type": "stream",
          "name": "stdout",
          "text": [
            "Mounted at /content/drive\n"
          ]
        }
      ]
    },
    {
      "cell_type": "markdown",
      "source": [
        "**Q2** Using seaborn's displot draw density curves to show the distributions of Home Team Goals for every year. "
      ],
      "metadata": {
        "id": "T4yhidlieOpS"
      }
    },
    {
      "cell_type": "code",
      "execution_count": null,
      "metadata": {
        "id": "pVaLN_OFXJBl"
      },
      "outputs": [],
      "source": [
        "sns.displot(data = worldcup, x= 'Year', hue= 'Home Team Goals', kind = 'kde')"
      ]
    },
    {
      "cell_type": "markdown",
      "source": [
        "**Q3** Draw violin plots to summarize Home Team Goals distributions for each year by using seaborn. Notice that labels are really cluttered. Then please refer to the earlier notebooks to have labels to appear on only select years which end with 0. You can use ax handle to call ax.set_xticklables(labels) for the labels your prepared."
      ],
      "metadata": {
        "id": "3ZTG_xVeeS-V"
      }
    },
    {
      "cell_type": "code",
      "source": [
        "sns.violinplot(data = worldcup, x='Year', y= \"Home Team Goals\")\n",
        "labels=[y if y%10==0 else None for y in list(worldcup.Year.unique())]\n",
        "ax = sns.violinplot(data=worldcup, x=\"Year\", y=\"Home Team Goals\")\n",
        "ax.set_xticklabels(labels)\n"
      ],
      "metadata": {
        "id": "yZv0MHIXXdhM"
      },
      "execution_count": null,
      "outputs": []
    },
    {
      "cell_type": "markdown",
      "source": [
        "**Q4** Please install joypy. Then visualize distributions for Home Team Goals and Away Team Goals' for each year. Once you visualize, please add  plt.style.use('seaborn-white') to see how colors change in your second run. Please also add the legend which you can find from the function prototype.\n",
        "\n"
      ],
      "metadata": {
        "id": "pd56iF7eeVki"
      }
    },
    {
      "cell_type": "code",
      "source": [
        "!pip install joypy"
      ],
      "metadata": {
        "id": "IMO5J3_6H7Os"
      },
      "execution_count": null,
      "outputs": []
    },
    {
      "cell_type": "code",
      "source": [
        "import joypy as jp\n",
        "plt.style.use(\"seaborn-white\")\n",
        "jp.joyplot(data= worldcup, column= ['Home Team Goals', 'Away Team Goals'], by= \"Year\", legend= True)\n",
        "\n"
      ],
      "metadata": {
        "id": "5bsXe8TtY2bc"
      },
      "execution_count": null,
      "outputs": []
    },
    {
      "cell_type": "markdown",
      "source": [
        "**Q5** Please use groupby function on Home Team Initials to see the sum of Home Team Goals which can be saved to another data frame by adding .reset_index() end the end of your line. \n",
        "\n",
        "Then use your new data frame to visualize those total Home Team Goals for your top 5 countries (You can use Home Team Initials). You can use use df.sort_values() function on your data frame by tweaking the ascending option.\n",
        "\n",
        "Notice that your x-axis will be having country initials, and y-axis will show the total number of Home Team Goals. \n",
        "\n"
      ],
      "metadata": {
        "id": "qAI2uZbpeuj_"
      }
    },
    {
      "cell_type": "code",
      "source": [
        "worldcup.groupby(['Home Team Initials', \"Home Team Goals\"])['Home Team Goals'].count()\n",
        "worldcup2 = worldcup.reset_index()\n",
        "worldcup2.sort_values(\"Home Team Initials\")\n",
        "plt.hist(worldcup2['Home Team Initials'])\n",
        "worldcup3 = print(worldcup2[0:4])\n"
      ],
      "metadata": {
        "id": "pIdavalVZ6sF"
      },
      "execution_count": null,
      "outputs": []
    },
    {
      "cell_type": "markdown",
      "source": [
        "**Q6** Please extract the rows for your top 4 countries (Home Team Initials') with the help of the previous question's answer. Then use joyplot again to visualize densities for 'Home Team Goals' and\t'Away Team Goals' on the horizantal axis. Notice that your y-axis labels will be your country initials (Home Team Initials'). Make sure that your legend is visible and use 'dark_background' by calling plt.style.use again.\n",
        "\n"
      ],
      "metadata": {
        "id": "KFnCuhwPeyJB"
      }
    },
    {
      "cell_type": "code",
      "source": [
        "worldcup4 = print(worldcup2[0:3])\n",
        "plt.style.use(\"dark_background\")\n",
        "jp.joyplot(data= worldcup4, column= ['Home Team Goals', 'Away Team Goals'], by= \"Home Team Initials\", legend= True)\n"
      ],
      "metadata": {
        "id": "O7Ty3KdGcKne"
      },
      "execution_count": null,
      "outputs": []
    },
    {
      "cell_type": "markdown",
      "source": [
        "**Q7** Please install seaborn_qqplot as shown below. Then draw a qqplot to compare probability distributions of Home Team Goals and Away Team Goals. Please comment on your finding. Do you think their distributions agree with each other? Please justify your answer by explaining the figure you obtained."
      ],
      "metadata": {
        "id": "e8q7WfC6e1Uu"
      }
    },
    {
      "cell_type": "code",
      "source": [
        "!pip install seaborn_qqplot"
      ],
      "metadata": {
        "id": "anDZZYZpdvqg"
      },
      "execution_count": null,
      "outputs": []
    },
    {
      "cell_type": "code",
      "source": [
        "from seaborn_qqplot import pplot #seaborn-qqplot is a seaborn extension adding qqplots.\n",
        "plt.style.use('ggplot') #this is to change the color theme. \n",
        "pplot(worldcup, x=\"Year\", y=\"Home Team Goals\", kind=\"qq\")\n",
        "pplot(worldcup, x=\"Year\", y=\"Away Team Goals\", kind=\"qq\")\n",
        "#I think there distributions agree with eachother. In each of the figures we can see that each team scores about the same amount\n",
        "#of goals each year. They both even significantly increase their amount of goals around the year 2010. "
      ],
      "metadata": {
        "id": "lg8S7L2idz45"
      },
      "execution_count": null,
      "outputs": []
    }
  ]
}